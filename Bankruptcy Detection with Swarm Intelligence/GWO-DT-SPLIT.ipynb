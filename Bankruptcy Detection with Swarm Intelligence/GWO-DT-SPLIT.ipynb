{
 "cells": [
  {
   "cell_type": "code",
   "execution_count": 290,
   "metadata": {},
   "outputs": [],
   "source": [
    "import numpy as np\n",
    "from sklearn import svm\n",
    "from sklearn.svm import SVC\n",
    "import sklearn.model_selection\n",
    "import numpy.random as rd\n",
    "import matplotlib.pyplot as plt\n",
    "from sklearn.model_selection import KFold\n",
    "from sklearn.metrics import mean_squared_error, r2_score\n",
    "from sklearn.model_selection import cross_val_score\n",
    "from sklearn.model_selection import train_test_split\n",
    "import warnings, pandas as pd,numpy as np, time, math, configparser,random\n",
    "import pandas as pd\n",
    "import numpy as np\n",
    "import random\n",
    "import csv\n",
    "from sklearn import svm\n",
    "from sklearn.model_selection import train_test_split\n",
    "from sklearn.model_selection import KFold\n",
    "from sklearn.svm import SVC\n",
    "from sklearn.tree import DecisionTreeClassifier\n",
    "from sklearn.model_selection import GridSearchCV\n",
    "from sklearn.metrics import classification_report\n",
    "from sklearn.metrics import accuracy_score\n",
    "from sklearn.metrics import precision_score\n",
    "from sklearn.metrics import recall_score\n",
    "from sklearn.metrics import f1_score\n",
    "from sklearn.metrics import classification_report\n",
    "from sklearn.metrics import confusion_matrix\n",
    "from sklearn.metrics import roc_curve\n",
    "from sklearn.metrics import precision_recall_curve\n",
    "from sklearn.model_selection import KFold\n",
    "import time\n",
    "import matplotlib.pyplot as plt\n",
    "%matplotlib inline\n",
    "\n",
    "import warnings\n",
    "warnings.filterwarnings('ignore')"
   ]
  },
  {
   "cell_type": "code",
   "execution_count": 291,
   "metadata": {},
   "outputs": [],
   "source": [
    "## 1. GWO optimization algorithm\n",
    "def sanitized_gwo(X_train,X_test,y_train,y_test,SearchAgents_no,T,dim,lb,ub):\n",
    "    Alpha_position=[0,0] # Initialize the position of Alpha Wolf\n",
    "    Beta_position=[0,0]\n",
    "    Delta_position=[0,0]  \n",
    "\n",
    "    Alpha_score = float(\"inf\") # Initialize the value of Alpha Wolf's objective function \n",
    "    Beta_score = float(\"inf\")\n",
    "    Delta_score = float(\"inf\")\n",
    " \n",
    "    Positions = np.dot(rd.rand(SearchAgents_no,dim),(ub-lb))+lb # initialize the first search position\n",
    "    \n",
    "    Convergence_curve=np.zeros((1,T))# initialization fusion curve\n",
    "\n",
    "    iterations = []\n",
    "    accuracy = []\n",
    "\n",
    "    # Main Loop\n",
    "    t = 0 \n",
    "    while t < T:\n",
    "        \n",
    "        # Iterate over each wolf\n",
    "        for i in range(0,(Positions.shape[0])):\n",
    "            #If the search position exceeds the search space, you need to return to the search space \n",
    "            for j in range(0,(Positions.shape[1])): \n",
    "                Flag4ub=Positions[i,j]>ub\n",
    "                Flag4lb=Positions[i,j]<lb\n",
    "                #If the wolf's position is between the maximum and minimum, the position does not need to be adjusted,\n",
    "                #if it exceeds the maximum, the maximum returns to the maximum value boundary\n",
    "\n",
    "                if Flag4ub:                   \n",
    "                    Positions[i,j] = ub\n",
    "                if Flag4lb:                   \n",
    "                    Positions[i,j] = lb\n",
    "            '''DT MODEL TRAINING - FOR CLASSIFICATION PROBLEM DATASET''' \n",
    "            dt_classifier = DecisionTreeClassifier() \n",
    "            rbf_svm = dt_classifier.fit(X_train, y_train)  #svm\n",
    "            cv_accuracies = cross_val_score(rbf_svm,X_test,y_test,cv =3,scoring = 'accuracy')\n",
    "            \n",
    "            '''SVR MODEL TRAINING - FOR REGRESSION PROBLEM DATASET'''\n",
    "            #rbf_regressor = svm.SVR(kernel = 'rbf', C = Positions[i][0], gamma = Positions[i][1]).fit(X_train, y_train)  #svm        \n",
    "            #cv_accuracies = cross_val_score(rbf_regressor,X_test,y_test,cv =3,scoring = 'neg_mean_squared_error') # Taking negated value of MSE\n",
    "            \n",
    "            \n",
    "            #To minimize the error rate\n",
    "            accuracies = cv_accuracies.mean()            \n",
    "            fitness_value = (1 - accuracies)*100\n",
    "            if fitness_value<Alpha_score: # If the objective function value is less than the objective function value of Alpha Wolf\n",
    "                Alpha_score=fitness_value # Then update the target function value of Alpha Wolf to the optimal target function value\n",
    "                Alpha_position=Positions[i] # At the same time update the position of the Alpha wolf to the optimal position\n",
    "            if fitness_value>Alpha_score and fitness_value<Beta_score:  # If the objective function value is between the objective function value of Alpha Wolf and Beta Wolf\n",
    "                Beta_score=fitness_value # Then update the target function value of Beta Wolf to the optimal target function value\n",
    "                Beta_position=Positions[i]\n",
    "            if fitness_value>Alpha_score and fitness_value>Beta_score and fitness_value<Delta_score: #If the target function value is between the target function value of Beta Wolf and Delta Wolf\n",
    "                Delta_score=fitness_value  # Then update the target function value of Delta Wolf to the optimal target function value\n",
    "                Delta_position=Positions[i]\n",
    "\n",
    "\n",
    "        a=2-t*(2/T)\n",
    "        \n",
    "        # Iterate over each wolf\n",
    "        for i in range(0,(Positions.shape[0])):\n",
    "            #Traverse through each dimension\n",
    "            for j in range(0,(Positions.shape[1])): \n",
    "                #Surround prey, location update                 \n",
    "                r1=rd.random(1)#Generate a random number between 0 ~ 1\n",
    "                r2=rd.random(1)               \n",
    "                A1=2*a*r1-a # calculation factor A\n",
    "                #C1=2*r2 # calculation factor C\n",
    "                C1 = 0.5 + (0.5*math.exp(-j/500)) + (1.4*(math.sin(j)/30)) # Time varying Acceleration constant \n",
    "\n",
    "                #Alphawolf location update\n",
    "                \n",
    "                D_alpha=abs(C1*Alpha_position[j]-Positions[i,j])\n",
    "                X1=Alpha_position[j]-A1*D_alpha\n",
    "                       \n",
    "                r1=rd.random(1)\n",
    "                r2=rd.random(1)\n",
    "\n",
    "                A2=2*a*r1-a\n",
    "                #C2=2*r2\n",
    "                C2  = 1 + (1.4*(1 - math.exp(-j/500)) ) + (1.4*(math.sin(j)/30)) #Difference Mean based Perturbation time varying parameter\n",
    "\n",
    "                # Beta wolf location update\n",
    "                D_beta=abs(C2*Beta_position[j]-Positions[i,j])\n",
    "                X2=Beta_position[j]-A2*D_beta\n",
    "                r1=rd.random(1)\n",
    "                r2=rd.random(1)\n",
    "\n",
    "                A3=2*a*r1-a\n",
    "                #C3=2*r2\n",
    "                C3=(1/(1+ math.exp(-0.0001*j/T) )) + ((0.5 - 2.5) * ((j/T) **2)) #sigmoid-based acceleration coefficient\n",
    "\n",
    "                # Delta Wolf Location Update\n",
    "                D_delta=abs(C3*Delta_position[j]-Positions[i,j])\n",
    "                X3=Delta_position[j]-A3*D_delta\n",
    "\n",
    "                # Location update\n",
    "                Positions[i,j]=(X1+X2+X3)/3\n",
    "\n",
    "        \n",
    "        t = t + 1\n",
    "        iterations.append(t)\n",
    "        accuracy.append((100-Alpha_score)/100)\n",
    "        print('----------------Count of iterations----------------' + str(t))\n",
    "        print(Positions)\n",
    "        print('C and gamma:' + str(Alpha_position))\n",
    "        print('accuracy:' + str((100-Alpha_score)/100))\n",
    "\n",
    "    best_C=Alpha_position[0]\n",
    "    best_gamma=Alpha_position[1]\n",
    "\n",
    "    return best_C,best_gamma,iterations,accuracy\n",
    "    #plot(x axis = gamma, y axis = C)\n",
    "    #plotting (x axis = gamma, y axis = C)\n",
    "    #plot(Alpha_position)\n",
    "# Plot Convergence Curve\n",
    "'''\n",
    "def plot(iterations,accuracy):\n",
    "    plt.plot(iterations,accuracy)\n",
    "    plt.xlabel('Count of iterations',size = 20)\n",
    "    plt.ylabel('Accuracy',size = 20)\n",
    "    plt.title('Sanitized GWO-SVM parameter optimization (SGWO_SVM)')\n",
    "    plt.show()\n",
    "'''\n",
    "# Plot Scatter GWO\n",
    "def plot(best_C,best_gamma):\n",
    "    plt.plot(best_C,best_gamma)\n",
    "    colors = (0,0,0)\n",
    "    plt.scatter(best_C, best_gamma, c = colors, alpha = 0.1)\n",
    "    plt.xlabel('C',size = 20)\n",
    "    plt.ylabel('Gamma',size = 20)\n",
    "    plt.axis([0,9,0,10])\n",
    "    plt.gca().set_aspect('equal', adjustable='box')\n",
    "    plt.title('Sanitized GWO-SVM parameter optimization (SGWO_SVM)')\n",
    "    plt.show()"
   ]
  },
  {
   "cell_type": "code",
   "execution_count": 292,
   "metadata": {},
   "outputs": [
    {
     "name": "stdout",
     "output_type": "stream",
     "text": [
      "----------------1. Load data-------------------\n"
     ]
    }
   ],
   "source": [
    "if __name__ == '__main__':\n",
    "    print('----------------1. Load data-------------------')\n",
    "    url = \"Polish6yeartrain.csv\"\n",
    "    colnames = ['x1', 'x2', 'x3','y']\n",
    "    data = pd.read_csv(url,header = None, names = colnames)"
   ]
  },
  {
   "cell_type": "code",
   "execution_count": 293,
   "metadata": {},
   "outputs": [
    {
     "data": {
      "text/plain": [
       "(43401, 4)"
      ]
     },
     "execution_count": 293,
     "metadata": {},
     "output_type": "execute_result"
    }
   ],
   "source": [
    "data.shape"
   ]
  },
  {
   "cell_type": "code",
   "execution_count": 294,
   "metadata": {},
   "outputs": [
    {
     "data": {
      "text/plain": [
       "0    41310\n",
       "1     2091\n",
       "Name: y, dtype: int64"
      ]
     },
     "execution_count": 294,
     "metadata": {},
     "output_type": "execute_result"
    }
   ],
   "source": [
    "data['y'].value_counts()"
   ]
  },
  {
   "cell_type": "code",
   "execution_count": 295,
   "metadata": {},
   "outputs": [
    {
     "data": {
      "text/plain": [
       "0    0.951821\n",
       "1    0.048179\n",
       "Name: y, dtype: float64"
      ]
     },
     "execution_count": 295,
     "metadata": {},
     "output_type": "execute_result"
    }
   ],
   "source": [
    "data['y'].value_counts()/np.float(len(data))"
   ]
  },
  {
   "cell_type": "code",
   "execution_count": 296,
   "metadata": {},
   "outputs": [
    {
     "data": {
      "text/plain": [
       "<matplotlib.axes._subplots.AxesSubplot at 0x29c0d0bbe48>"
      ]
     },
     "execution_count": 296,
     "metadata": {},
     "output_type": "execute_result"
    },
    {
     "data": {
      "image/png": "[encoded data removed]",
      "text/plain": [
       "<Figure size 432x288 with 1 Axes>"
      ]
     },
     "metadata": {
      "needs_background": "light"
     },
     "output_type": "display_data"
    }
   ],
   "source": [
    "(data['y'].value_counts()/np.float(len(data))).plot.bar()"
   ]
  },
  {
   "cell_type": "code",
   "execution_count": 297,
   "metadata": {},
   "outputs": [],
   "source": [
    "# declare feature vector and target variable\n",
    "\n",
    "X = data.drop(['y'], axis=1)\n",
    "y = data['y']"
   ]
  },
  {
   "cell_type": "code",
   "execution_count": 298,
   "metadata": {},
   "outputs": [],
   "source": [
    "# import resample module \n",
    "\n",
    "from sklearn.utils import resample"
   ]
  },
  {
   "cell_type": "code",
   "execution_count": 299,
   "metadata": {},
   "outputs": [],
   "source": [
    "# separate the minority and majority classes\n",
    "df_majority = data[data['y']==0]\n",
    "df_minority = data[data['y']==1]"
   ]
  },
  {
   "cell_type": "code",
   "execution_count": 300,
   "metadata": {},
   "outputs": [],
   "source": [
    "# oversample minority class\n",
    "\n",
    "df_minority_oversampled = resample(df_minority, replace=True, n_samples=43400, random_state=0)"
   ]
  },
  {
   "cell_type": "code",
   "execution_count": 301,
   "metadata": {},
   "outputs": [],
   "source": [
    "# combine majority class with oversampled minority class\n",
    "\n",
    "df_oversampled = pd.concat([df_majority, df_minority_oversampled])"
   ]
  },
  {
   "cell_type": "code",
   "execution_count": 302,
   "metadata": {},
   "outputs": [
    {
     "data": {
      "text/plain": [
       "1    43400\n",
       "0    41310\n",
       "Name: y, dtype: int64"
      ]
     },
     "execution_count": 302,
     "metadata": {},
     "output_type": "execute_result"
    }
   ],
   "source": [
    "# display new class value counts\n",
    "\n",
    "df_oversampled['y'].value_counts()"
   ]
  },
  {
   "cell_type": "code",
   "execution_count": 303,
   "metadata": {},
   "outputs": [
    {
     "data": {
      "text/plain": [
       "<matplotlib.axes._subplots.AxesSubplot at 0x29c0bfc0bc8>"
      ]
     },
     "execution_count": 303,
     "metadata": {},
     "output_type": "execute_result"
    },
    {
     "data": {
      "image/png": "[encoded data removed]",
      "text/plain": [
       "<Figure size 432x288 with 1 Axes>"
      ]
     },
     "metadata": {
      "needs_background": "light"
     },
     "output_type": "display_data"
    }
   ],
   "source": [
    "# view the distribution of percentages within the Class column\n",
    "\n",
    "\n",
    "(df_oversampled['y'].value_counts()/np.float(len(df_oversampled))).plot.bar()"
   ]
  },
  {
   "cell_type": "code",
   "execution_count": 304,
   "metadata": {},
   "outputs": [],
   "source": [
    "# declare feature vector and target variable\n",
    "X1 = df_oversampled.drop(['y'], axis=1)\n",
    "X1 =(X1-X1.mean())/X1.std()\n",
    "y1 = df_oversampled['y']\n",
    "X_train, X_test, y_train, y_test = train_test_split(X1, y1,test_size = 0.2, random_state=42)"
   ]
  },
  {
   "cell_type": "code",
   "execution_count": 305,
   "metadata": {},
   "outputs": [],
   "source": [
    "#X = data.drop('y', axis = 1)\n",
    "#X =(X-X.mean())/X.std()\n",
    "#y = data['y']\n",
    "#X_train,X_test,y_train,y_test= train_test_split(X, y, test_size = 0.2, random_state = 0)"
   ]
  },
  {
   "cell_type": "code",
   "execution_count": 306,
   "metadata": {},
   "outputs": [
    {
     "name": "stdout",
     "output_type": "stream",
     "text": [
      "----------------2. Parameter setting------------\n"
     ]
    }
   ],
   "source": [
    "print('----------------2. Parameter setting------------')\n",
    "SearchAgents_no=10 #Number of Wolfs\n",
    "T=10 # maximum number of iterations\n",
    "dim=2 #Need to optimize two variables - Cost and Gamma\n",
    "lb=0.01 #lower bound Parameter\n",
    "ub=10 #upper bound Parameter"
   ]
  },
  {
   "cell_type": "code",
   "execution_count": 307,
   "metadata": {},
   "outputs": [
    {
     "name": "stdout",
     "output_type": "stream",
     "text": [
      "----------------3.LARGE-----------------\n",
      "----------------Count of iterations----------------1\n",
      "[[ 0.20333717  1.24364915]\n",
      " [ 4.8483993   3.78057957]\n",
      " [ 7.23379693  7.91254523]\n",
      " [ 2.95441042  1.85265986]\n",
      " [ 5.91422929  3.37431132]\n",
      " [ 4.86129716  3.82550251]\n",
      " [ 3.6596628   2.03236459]\n",
      " [ 8.44446803  4.2040251 ]\n",
      " [ 7.08650967 10.96674694]\n",
      " [10.30923689  6.2584657 ]]\n",
      "C and gamma:[5.91422929 3.37431132]\n",
      "accuracy:0.8697319145282253\n",
      "----------------Count of iterations----------------2\n",
      "[[10.51369949  4.37105848]\n",
      " [ 4.10439881  3.90051606]\n",
      " [ 6.81614045  7.86739051]\n",
      " [ 3.02661431  3.71187703]\n",
      " [ 6.45881561  3.0822098 ]\n",
      " [ 9.65116919  2.27773325]\n",
      " [ 5.38354415  4.53593371]\n",
      " [ 5.1784722   3.20196107]\n",
      " [ 6.05601635  1.13270972]\n",
      " [11.02028325  3.86869916]]\n",
      "C and gamma:[6.45881561 3.0822098 ]\n",
      "accuracy:0.8697319145282253\n",
      "----------------Count of iterations----------------3\n",
      "[[3.04759808 3.51421176]\n",
      " [7.21016916 2.66896733]\n",
      " [8.81504133 1.88045551]\n",
      " [5.6976083  1.79851564]\n",
      " [5.29119574 2.58608145]\n",
      " [7.21621887 3.03618882]\n",
      " [5.01070552 1.45586902]\n",
      " [6.43835879 2.00390356]\n",
      " [7.24017137 2.70356207]\n",
      " [7.24432183 1.47517491]]\n",
      "C and gamma:[5.29119574 2.58608145]\n",
      "accuracy:0.8697319145282253\n",
      "----------------Count of iterations----------------4\n",
      "[[6.63792537 2.13693936]\n",
      " [7.00999601 2.480068  ]\n",
      " [3.40706434 2.47438118]\n",
      " [4.96881996 2.74335732]\n",
      " [4.5551188  2.83082251]\n",
      " [7.4445399  1.75867496]\n",
      " [4.5122956  2.91004711]\n",
      " [5.20674568 2.53665246]\n",
      " [6.20231175 2.13894453]\n",
      " [5.53794874 2.45056634]]\n",
      "C and gamma:[4.5551188  2.83082251]\n",
      "accuracy:0.8697319145282253\n",
      "----------------Count of iterations----------------5\n",
      "[[5.39567099 2.50877345]\n",
      " [8.1301675  2.18310817]\n",
      " [4.83943269 2.55700746]\n",
      " [5.22277441 2.3867922 ]\n",
      " [5.73485552 2.72759894]\n",
      " [6.92381386 2.33328897]\n",
      " [6.19243732 2.70795991]\n",
      " [5.66535866 2.68878223]\n",
      " [6.64297595 2.43571575]\n",
      " [5.19643641 2.6336499 ]]\n",
      "C and gamma:[5.73485552 2.72759894]\n",
      "accuracy:0.8697319145282253\n",
      "----------------Count of iterations----------------6\n",
      "[[6.45002567 2.64999251]\n",
      " [5.43529811 2.87242074]\n",
      " [5.44974415 2.368383  ]\n",
      " [5.68948481 2.82749382]\n",
      " [5.62713218 2.75094712]\n",
      " [4.9931348  2.502635  ]\n",
      " [5.87098317 2.21104959]\n",
      " [6.12663049 2.85385588]\n",
      " [5.45684415 2.86182045]\n",
      " [5.09885951 3.0596453 ]]\n",
      "C and gamma:[5.45684415 2.86182045]\n",
      "accuracy:0.8706172777108621\n",
      "----------------Count of iterations----------------7\n",
      "[[5.76911742 2.71753139]\n",
      " [5.51848953 2.97472323]\n",
      " [5.78348838 3.03282509]\n",
      " [5.8535917  3.18715074]\n",
      " [6.04330013 2.75526716]\n",
      " [5.17353187 3.21414649]\n",
      " [5.35782469 3.33255255]\n",
      " [5.49011402 3.2773144 ]\n",
      " [5.129951   2.9995944 ]\n",
      " [5.25630349 3.2327049 ]]\n",
      "C and gamma:[5.129951  2.9995944]\n",
      "accuracy:0.8706172777108621\n",
      "----------------Count of iterations----------------8\n",
      "[[4.9883769  3.47834391]\n",
      " [5.1182746  3.10507795]\n",
      " [4.6753144  2.97046761]\n",
      " [5.28337017 3.0810714 ]\n",
      " [5.51960387 3.18379846]\n",
      " [5.73880425 2.855909  ]\n",
      " [5.57931755 3.08970106]\n",
      " [5.47332132 3.35116403]\n",
      " [5.26809164 3.10144657]\n",
      " [5.37812201 3.22381014]]\n",
      "C and gamma:[5.26809164 3.10144657]\n",
      "accuracy:0.8706172777108621\n",
      "----------------Count of iterations----------------9\n",
      "[[5.04399285 3.06642292]\n",
      " [5.12979259 3.11589513]\n",
      " [5.14986448 3.38345451]\n",
      " [5.41774977 3.42331887]\n",
      " [5.19725193 3.32256676]\n",
      " [5.32559313 3.24820494]\n",
      " [5.64714222 3.35471775]\n",
      " [5.56626909 3.2928256 ]\n",
      " [5.08310761 3.21986006]\n",
      " [5.08242634 3.11027781]]\n",
      "C and gamma:[5.08310761 3.21986006]\n",
      "accuracy:0.8706172777108621\n",
      "----------------Count of iterations----------------10\n",
      "[[5.11677854 3.20151698]\n",
      " [5.12379775 3.13696457]\n",
      " [4.93203558 3.21742965]\n",
      " [5.0895557  3.27717902]\n",
      " [5.1430144  3.18743329]\n",
      " [5.1199284  3.12458881]\n",
      " [4.92509449 3.2754326 ]\n",
      " [5.27431936 3.17064186]\n",
      " [4.99268966 3.1163555 ]\n",
      " [4.87019316 3.09757377]]\n",
      "C and gamma:[4.99268966 3.1163555 ]\n",
      "accuracy:0.8706172777108621\n",
      "----------------4. The result shows-----------------\n",
      "The best C is 4.99268965858647\n",
      "The best gamma is 3.1163555047701936\n"
     ]
    }
   ],
   "source": [
    "print('----------------3.LARGE-----------------')\n",
    "best_C,best_gamma,iterations,accuracy = sanitized_gwo(X_train,X_test,y_train,y_test,SearchAgents_no,T,dim,lb,ub)\n",
    "\n",
    "print('----------------4. The result shows-----------------')\n",
    "print(\"The best C is \" + str(best_C))\n",
    "print(\"The best gamma is \" + str(best_gamma))\n",
    "    #plot(iterations,accuracy)\n",
    "    #plot(Alpha_position)\n",
    "#plot(best_C,best_gamma)"
   ]
  },
  {
   "cell_type": "code",
   "execution_count": 308,
   "metadata": {},
   "outputs": [],
   "source": [
    "#Apply Optimal Parameters to SVR\n",
    "dt_classifier= DecisionTreeClassifier()\n",
    "dt_classifier.fit(X_train,y_train)\n",
    "y_pred = dt_classifier.predict(X_test)\n",
    "y_train_pred = dt_classifier.predict(X_train)\n",
    "# APPLYING K-FOLD CROSS VALIDATION on RF model\n",
    "accuracies = cross_val_score(dt_classifier, X = X_train, y = y_train, cv = 10)\n",
    "accuracy_mean= accuracies.mean()\n",
    "accuracies.std()*100\n",
    "\n",
    "mse = mean_squared_error(y_test, y_pred)\n",
    "rmse = np.sqrt(mse)\n",
    "r2=r2_score(y_test, y_pred)\n",
    "nrmse=rmse/(y_test.max() - y_test.min())"
   ]
  },
  {
   "cell_type": "code",
   "execution_count": 309,
   "metadata": {},
   "outputs": [
    {
     "name": "stdout",
     "output_type": "stream",
     "text": [
      "DT RESULTS - C AND GAMMA PARAMETERS OPTIMIZED BY GRAY WOLF OPTIMIZATION\n",
      "RMSE = 0.17264871502056672\n",
      "MSE = 0.029807578798252864\n",
      "Normalized RMSE= 0.17264871502056672\n",
      "R Square = 0.880707761029078\n",
      "K-fold accuracy mean 0.9673149655085549\n",
      "Training time: 0.2773923873901367s\n"
     ]
    }
   ],
   "source": [
    "print(\"DT RESULTS - C AND GAMMA PARAMETERS OPTIMIZED BY GRAY WOLF OPTIMIZATION\")\n",
    "print(\"RMSE =\", rmse)\n",
    "print(\"MSE =\", mse)\n",
    "print(\"Normalized RMSE=\",nrmse)\n",
    "print(\"R Square =\",r2)\n",
    "print(\"K-fold accuracy mean\",accuracy_mean)\n",
    "from sklearn.metrics import accuracy_score, f1_score, precision_score, recall_score, confusion_matrix,classification_report\n",
    "import time\n",
    "#Performance Metrics\n",
    "#print(\"Training Findings\")\n",
    "#print(\"Accuracy:\",accuracy_score(y_train, y_pred))  \n",
    "#print(\"Confusion Matrix:\",confusion_matrix(y_true, y_pred))\n",
    "#print(\"Testing Findings\")\n",
    "#print(\"Test Accuracy:\",accuracy_score(y_test, y_pred)) \n",
    "#print(\"Confusion Matrix:\",confusion_matrix(y_test, y_pred))\n",
    "#Time\n",
    "start = time.time()\n",
    "#model.fit(X, y)\n",
    "dt_classifier.fit(X_train, y_train)\n",
    "#svclassifier.fit(X_test, y_test)\n",
    "stop = time.time()\n",
    "print(f\"Training time: {stop - start}s\")\n",
    "#print(f\"Test time: {stop - start}s\")\n",
    "#plot(best_C,best_gamma)"
   ]
  },
  {
   "cell_type": "code",
   "execution_count": 310,
   "metadata": {},
   "outputs": [
    {
     "name": "stdout",
     "output_type": "stream",
     "text": [
      "Test time: 0.06250381469726562s\n"
     ]
    }
   ],
   "source": [
    "#Time\n",
    "start = time.time()\n",
    "#model.fit(X, y)\n",
    "#svclassifier.fit(X_train, y_train)\n",
    "dt_classifier.fit(X_test, y_test)\n",
    "stop = time.time()\n",
    "#print(f\"Training time: {stop - start}s\")\n",
    "print(f\"Test time: {stop - start}s\")\n",
    "#plot(best_C,best_gamma)"
   ]
  },
  {
   "cell_type": "code",
   "execution_count": 311,
   "metadata": {},
   "outputs": [
    {
     "name": "stdout",
     "output_type": "stream",
     "text": [
      "Training Findings\n",
      "Accuracy: 0.999026089009562\n",
      "Confusion Matrix: [[32966    66]\n",
      " [    0 34736]]\n",
      "Testing Findings\n",
      "Test Accuracy: 0.9701924212017471\n",
      "Confusion Matrix: [[7773  505]\n",
      " [   0 8664]]\n"
     ]
    }
   ],
   "source": [
    "#Performance Metrics\n",
    "print(\"Training Findings\")\n",
    "print(\"Accuracy:\",accuracy_score(y_train, y_train_pred))  \n",
    "print(\"Confusion Matrix:\",confusion_matrix(y_train, y_train_pred))\n",
    "print(\"Testing Findings\")\n",
    "print(\"Test Accuracy:\",accuracy_score(y_test, y_pred)) \n",
    "print(\"Confusion Matrix:\",confusion_matrix(y_test, y_pred))"
   ]
  },
  {
   "cell_type": "code",
   "execution_count": null,
   "metadata": {},
   "outputs": [],
   "source": []
  }
 ],
 "metadata": {
  "kernelspec": {
   "display_name": "Python 3",
   "language": "python",
   "name": "python3"
  },
  "language_info": {
   "codemirror_mode": {
    "name": "ipython",
    "version": 3
   },
   "file_extension": ".py",
   "mimetype": "text/x-python",
   "name": "python",
   "nbconvert_exporter": "python",
   "pygments_lexer": "ipython3",
   "version": "3.7.4"
  }
 },
 "nbformat": 4,
 "nbformat_minor": 2
}
