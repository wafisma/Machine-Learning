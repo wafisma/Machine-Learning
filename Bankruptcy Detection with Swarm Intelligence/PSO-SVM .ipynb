{
 "cells": [
  {
   "cell_type": "code",
   "execution_count": 154,
   "metadata": {},
   "outputs": [],
   "source": [
    "import pandas as pd\n",
    "import numpy as np\n",
    "import math\n",
    "import random\n",
    "import csv\n",
    "from sklearn.model_selection import train_test_split\n",
    "from sklearn.svm import SVC\n",
    "from sklearn.metrics import classification_report, confusion_matrix  \n",
    "import matplotlib.pyplot as plt\n",
    "%matplotlib inline\n",
    "from sklearn.metrics import accuracy_score\n",
    "from sklearn.metrics import confusion_matrix\n",
    "import time\n",
    "import warnings\n",
    "warnings.filterwarnings('ignore')"
   ]
  },
  {
   "cell_type": "code",
   "execution_count": 155,
   "metadata": {},
   "outputs": [],
   "source": [
    "#csv_result-1year   australian.dat  Polish1yeartrain\n",
    "url = \"Polish6yeartrain.csv\"\n",
    "#url = \"C:/Users/GEM TEST II/Documents/pyt/PSO-SVM-Algorithm-master/PSO-SVM-Algorithm-master/PSO SVM ALGORITHM/Polish1yeartrain.csv\"\n",
    "#colnames = ['x1', 'x2', 'x3','x4','x5','x6','x7','x8','x9','x10','x11','x12','x13','x14', 'y']\n",
    "#colnames = ['x1', 'x2', 'x3','x4','x5','x6','x7','x8','x9','x10','x11','x12','x13','x14','x15', 'x16', 'x17','x18','x19','x20','x21','x22','x23','x24','x25','x26','x27','x28','x29', 'x30', 'x31','x32','x33','x34','x35','x36','x37','x38','x39','x40','x41','x42','x43','x44','x45','x46','x47','x48','x49', 'x50','x51','x52','x53','x54','x55','x56','x57','x58','x59','x60','x61','x62','x63','x64','y']\n",
    "colnames = ['x1', 'x2', 'x3','y']\n",
    "data = pd.read_csv(url,header = None, names = colnames)"
   ]
  },
  {
   "cell_type": "code",
   "execution_count": 156,
   "metadata": {},
   "outputs": [
    {
     "data": {
      "text/plain": [
       "(43401, 4)"
      ]
     },
     "execution_count": 156,
     "metadata": {},
     "output_type": "execute_result"
    }
   ],
   "source": [
    "data.shape"
   ]
  },
  {
   "cell_type": "code",
   "execution_count": 157,
   "metadata": {},
   "outputs": [
    {
     "data": {
      "text/plain": [
       "0    41310\n",
       "1     2091\n",
       "Name: y, dtype: int64"
      ]
     },
     "execution_count": 157,
     "metadata": {},
     "output_type": "execute_result"
    }
   ],
   "source": [
    "data['y'].value_counts()"
   ]
  },
  {
   "cell_type": "code",
   "execution_count": 158,
   "metadata": {},
   "outputs": [
    {
     "data": {
      "text/plain": [
       "0    0.951821\n",
       "1    0.048179\n",
       "Name: y, dtype: float64"
      ]
     },
     "execution_count": 158,
     "metadata": {},
     "output_type": "execute_result"
    }
   ],
   "source": [
    "data['y'].value_counts()/np.float(len(data))"
   ]
  },
  {
   "cell_type": "code",
   "execution_count": 159,
   "metadata": {},
   "outputs": [
    {
     "data": {
      "text/plain": [
       "<matplotlib.axes._subplots.AxesSubplot at 0x1d72a31f1c8>"
      ]
     },
     "execution_count": 159,
     "metadata": {},
     "output_type": "execute_result"
    },
    {
     "data": {
      "image/png": "[encoded data removed]",
      "text/plain": [
       "<Figure size 432x288 with 1 Axes>"
      ]
     },
     "metadata": {
      "needs_background": "light"
     },
     "output_type": "display_data"
    }
   ],
   "source": [
    "(data['y'].value_counts()/np.float(len(data))).plot.bar()"
   ]
  },
  {
   "cell_type": "code",
   "execution_count": 160,
   "metadata": {},
   "outputs": [],
   "source": [
    "# declare feature vector and target variable\n",
    "\n",
    "X = data.drop(['y'], axis=1)\n",
    "y = data['y']"
   ]
  },
  {
   "cell_type": "code",
   "execution_count": 161,
   "metadata": {},
   "outputs": [],
   "source": [
    "# import resample module \n",
    "\n",
    "from sklearn.utils import resample"
   ]
  },
  {
   "cell_type": "code",
   "execution_count": 162,
   "metadata": {},
   "outputs": [],
   "source": [
    "# separate the minority and majority classes\n",
    "df_majority = data[data['y']==0]\n",
    "df_minority = data[data['y']==1]"
   ]
  },
  {
   "cell_type": "code",
   "execution_count": 163,
   "metadata": {},
   "outputs": [],
   "source": [
    "# oversample minority class\n",
    "\n",
    "df_minority_oversampled = resample(df_minority, replace=True, n_samples=43400, random_state=0)"
   ]
  },
  {
   "cell_type": "code",
   "execution_count": 164,
   "metadata": {},
   "outputs": [],
   "source": [
    "# combine majority class with oversampled minority class\n",
    "\n",
    "df_oversampled = pd.concat([df_majority, df_minority_oversampled])"
   ]
  },
  {
   "cell_type": "code",
   "execution_count": 165,
   "metadata": {},
   "outputs": [
    {
     "data": {
      "text/plain": [
       "1    43400\n",
       "0    41310\n",
       "Name: y, dtype: int64"
      ]
     },
     "execution_count": 165,
     "metadata": {},
     "output_type": "execute_result"
    }
   ],
   "source": [
    "# display new class value counts\n",
    "\n",
    "df_oversampled['y'].value_counts()"
   ]
  },
  {
   "cell_type": "code",
   "execution_count": 166,
   "metadata": {},
   "outputs": [
    {
     "data": {
      "text/plain": [
       "<matplotlib.axes._subplots.AxesSubplot at 0x1d72a780888>"
      ]
     },
     "execution_count": 166,
     "metadata": {},
     "output_type": "execute_result"
    },
    {
     "data": {
      "image/png": "[encoded data removed]",
      "text/plain": [
       "<Figure size 432x288 with 1 Axes>"
      ]
     },
     "metadata": {
      "needs_background": "light"
     },
     "output_type": "display_data"
    }
   ],
   "source": [
    "# view the distribution of percentages within the Class column\n",
    "\n",
    "\n",
    "(df_oversampled['y'].value_counts()/np.float(len(df_oversampled))).plot.bar()"
   ]
  },
  {
   "cell_type": "code",
   "execution_count": 167,
   "metadata": {},
   "outputs": [],
   "source": [
    "# declare feature vector and target variable\n",
    "X1 = df_oversampled.drop(['y'], axis=1)\n",
    "X1 =(X1-X1.mean())/X1.std()\n",
    "y1 = df_oversampled['y']\n",
    "X_train, X_test, y_train, y_test = train_test_split(X1, y1, test_size = 0.20, random_state=42)"
   ]
  },
  {
   "cell_type": "code",
   "execution_count": 168,
   "metadata": {},
   "outputs": [
    {
     "name": "stdout",
     "output_type": "stream",
     "text": [
      "Inform the number of iterations: 10\n",
      "Inform the number of particles: 10\n"
     ]
    }
   ],
   "source": [
    "#################### I N P U T ####################\n",
    "#berdasarkan buku: Based on a book\n",
    "#khi = 0.729\n",
    "#c1 = 2.05\n",
    "#c2 = 2.05\n",
    "\n",
    "#berdasarkan paper: Based on a paper\n",
    "K = 0.3\n",
    "c1 = 2\n",
    "c2 = 5\n",
    "c = c1+ c2\n",
    "khi = 2*K/(abs(2-c-math.sqrt(c**2-4*c)))\n",
    "n_iterations = int(input(\"Inform the number of iterations: \"))\n",
    "n_particles = int(input(\"Inform the number of particles: \"))"
   ]
  },
  {
   "cell_type": "code",
   "execution_count": 169,
   "metadata": {},
   "outputs": [],
   "source": [
    "#mencari nilai 0-1 loss dari tiap partikel:find the 0-1 loss value of each particle\n",
    "#partikle = (gamma,C) untuk rbf:particle = (gamma, C) for rbf\n",
    "def fitness_function(position):\n",
    "    svclassifier = SVC(kernel='rbf', gamma = position[0], C = position[1] )  \n",
    "    svclassifier.fit(X_train, y_train)\n",
    "    y_train_pred = svclassifier.predict(X_train)\n",
    "    y_test_pred = svclassifier.predict(X_test) \n",
    "    #Performance Metrics\n",
    "    print(\"Training Findings\")\n",
    "    print(\"Accuracy:\",accuracy_score(y_train,y_train_pred))  \n",
    "    print(\"Confusion Matrix:\",confusion_matrix(y_train,y_train_pred))\n",
    "    print(\"Testing Findings\")\n",
    "    print(\"Accuracy:\",accuracy_score(y_test, y_test_pred))\n",
    "    print(\"Confusion Matrix:\",confusion_matrix(y_test,y_test_pred))\n",
    "    #Time\n",
    "    start = time.time()\n",
    "    #model.fit(X, y)\n",
    "    svclassifier.fit(X_train, y_train)\n",
    "    svclassifier.fit(X_test, y_test)\n",
    "    stop = time.time()\n",
    "    print(f\"Training time: {stop - start}s\")\n",
    "    print(f\"Test time: {stop - start}s\")\n",
    "    return (confusion_matrix(y_train,y_train_pred)[0][1] + confusion_matrix(y_train,y_train_pred)[1][0])/np.sum(confusion_matrix(y_train,y_train_pred)), (confusion_matrix(y_test,y_test_pred)[0][1] + confusion_matrix(y_test,y_test_pred)[1][0])/np.sum(confusion_matrix(y_test,y_test_pred))\n",
    "\n",
    "#plotting (x axis = gamma, y axis = C)\n",
    "def plot(position):\n",
    "    x = []\n",
    "    y = []\n",
    "    for i in range(0,len(particle_position_vector)):\n",
    "        x.append(particle_position_vector[i][0])\n",
    "        y.append(particle_position_vector[i][1])\n",
    "    colors = (0,0,0)\n",
    "    plt.scatter(x, y, c = colors, alpha = 0.1)\n",
    "    plt.xlabel('gamma')\n",
    "    plt.ylabel('C')\n",
    "    plt.axis([0,9,0,10])\n",
    "    plt.gca().set_aspect('equal', adjustable='box')\n",
    "    return plt.show()"
   ]
  },
  {
   "cell_type": "code",
   "execution_count": null,
   "metadata": {
    "scrolled": false
   },
   "outputs": [
    {
     "name": "stderr",
     "output_type": "stream",
     "text": [
      "'c' argument looks like a single numeric RGB or RGBA sequence, which should be avoided as value-mapping will have precedence in case its length matches with 'x' & 'y'.  Please use a 2-D array with a single row if you really want to specify the same RGB or RGBA value for all points.\n"
     ]
    },
    {
     "data": {
      "image/png": "[encoded data removed]",
      "text/plain": [
       "<Figure size 432x288 with 1 Axes>"
      ]
     },
     "metadata": {
      "needs_background": "light"
     },
     "output_type": "display_data"
    },
    {
     "name": "stdout",
     "output_type": "stream",
     "text": [
      "Training Findings\n",
      "Accuracy: 0.6592787156179908\n",
      "Confusion Matrix: [[19629 13403]\n",
      " [ 9687 25049]]\n",
      "Testing Findings\n",
      "Accuracy: 0.6569472317317908\n",
      "Confusion Matrix: [[4925 3353]\n",
      " [2459 6205]]\n",
      "Training time: 160.12723851203918s\n",
      "Test time: 160.12723851203918s\n",
      "error of particle- 1 is (training, test) (0.3407212843820092, 0.3430527682682092)  At (gamma, c):  [2.         4.36130639]\n",
      "Training Findings\n",
      "Accuracy: 0.660813363239287\n",
      "Confusion Matrix: [[19732 13300]\n",
      " [ 9686 25050]]\n",
      "Testing Findings\n",
      "Accuracy: 0.65818675481053\n",
      "Confusion Matrix: [[4954 3324]\n",
      " [2467 6197]]\n",
      "Training time: 159.41107296943665s\n",
      "Test time: 159.41107296943665s\n",
      "error of particle- 2 is (training, test) (0.33918663676071303, 0.34181324518947)  At (gamma, c):  [4.         2.20868357]\n",
      "Training Findings\n",
      "Accuracy: 0.6629235037185692\n",
      "Confusion Matrix: [[20669 12363]\n",
      " [10480 24256]]\n",
      "Testing Findings\n",
      "Accuracy: 0.6613740998701452\n",
      "Confusion Matrix: [[5187 3091]\n",
      " [2646 6018]]\n",
      "Training time: 161.4294877052307s\n",
      "Test time: 161.4294877052307s\n",
      "error of particle- 3 is (training, test) (0.33707649628143077, 0.3386259001298548)  At (gamma, c):  [7.         4.32520848]\n",
      "Training Findings\n",
      "Accuracy: 0.6590131035296896\n",
      "Confusion Matrix: [[20696 12336]\n",
      " [10772 23964]]\n",
      "Testing Findings\n",
      "Accuracy: 0.6573604060913706\n",
      "Confusion Matrix: [[5210 3068]\n",
      " [2737 5927]]\n",
      "Training time: 199.0031177997589s\n",
      "Test time: 199.0031177997589s\n",
      "error of particle- 4 is (training, test) (0.3409868964703105, 0.3426395939086294)  At (gamma, c):  [1.         1.41521803]\n"
     ]
    }
   ],
   "source": [
    "particle_position_vector = np.array([np.array([random.randint(1,8), random.random()*10]) for _ in range(n_particles)])\n",
    "pbest_position = particle_position_vector\n",
    "pbest_fitness_value = np.array([float('inf') for _ in range(n_particles)])\n",
    "gbest_fitness_value = np.array([float('inf'), float('inf')])\n",
    "gbest_position = np.array([float('inf'), float('inf')])\n",
    "\n",
    "velocity_vector = ([np.array([0, 0]) for _ in range(n_particles)])\n",
    "iteration = 0\n",
    "while iteration < n_iterations:\n",
    "    plot(particle_position_vector)\n",
    "    for i in range(n_particles):\n",
    "        fitness_cadidate = fitness_function(particle_position_vector[i])\n",
    "        print(\"error of particle-\",i+1,\"is (training, test)\", fitness_cadidate, \" At (gamma, c): \", particle_position_vector[i])\n",
    "        \n",
    "        if(pbest_fitness_value[i] > fitness_cadidate[1]):\n",
    "            pbest_fitness_value[i] = fitness_cadidate[1]\n",
    "            pbest_position[i] = particle_position_vector[i]\n",
    "\n",
    "        if(gbest_fitness_value[1] > fitness_cadidate[1]):\n",
    "            gbest_fitness_value = fitness_cadidate\n",
    "            gbest_position = particle_position_vector[i]\n",
    "        elif(gbest_fitness_value[1] == fitness_cadidate[1] and gbest_fitness_value[0] > fitness_cadidate[0]):\n",
    "            gbest_fitness_value = fitness_cadidate\n",
    "            gbest_position = particle_position_vector[i]\n",
    "            \n",
    "    for i in range(n_particles):\n",
    "        #(gamma,C)\n",
    "        max_velocity = np.array([8,10])\n",
    "        min_velocity = np.array([-8,-10])\n",
    "        max_position = np.array([8,10])\n",
    "        min_position = np.array([1, 0.001])\n",
    "        new_velocity = khi*(velocity_vector[i] + (c1*random.randint(0,3)) * (pbest_position[i] - particle_position_vector[i]) + (c2*random.random()) * (gbest_position-particle_position_vector[i]))\n",
    "        new_velocity[0] = np.round(new_velocity[0])\n",
    "        for j in range(0,len(new_velocity)):\n",
    "            if(new_velocity[j] > max_velocity[j]):\n",
    "                new_velocity[j] = max_velocity[j]\n",
    "            elif(new_velocity[j] < min_velocity[j]):\n",
    "                new_velocity[j] = min_velocity[j]\n",
    "            \n",
    "        new_position = new_velocity + particle_position_vector[i]\n",
    "        particle_position_vector[i] = new_position\n",
    "        for j in range(0,2):\n",
    "            if(particle_position_vector[i][j] > max_position[j]):\n",
    "                particle_position_vector[i][j] = max_position[j]\n",
    "            elif(particle_position_vector[i][j] < min_position[j]):\n",
    "                particle_position_vector[i][j] = min_position[j]\n",
    "    \n",
    "    iteration = iteration + 1\n",
    "    \n",
    "print(\"The best position is \", gbest_position, \"in iteration number\", iteration, \"with error rate (train, test):\", fitness_function(gbest_position))\n",
    "#print(\"The Confusion Matrix:\", fitness_function(confusion_matrix(y_train,y_train_pred)[0][1] + confusion_matrix(y_train,y_train_pred)[1][0])/np.sum(confusion_matrix(y_train,y_train_pred)), (confusion_matrix(y_test,y_test_pred)[0][1] + confusion_matrix(y_test,y_test_pred)[1][0])/np.sum(confusion_matrix(y_test,y_test_pred)))"
   ]
  }
 ],
 "metadata": {
  "kernelspec": {
   "display_name": "Python 3",
   "language": "python",
   "name": "python3"
  },
  "language_info": {
   "codemirror_mode": {
    "name": "ipython",
    "version": 3
   },
   "file_extension": ".py",
   "mimetype": "text/x-python",
   "name": "python",
   "nbconvert_exporter": "python",
   "pygments_lexer": "ipython3",
   "version": "3.7.4"
  }
 },
 "nbformat": 4,
 "nbformat_minor": 2
}
