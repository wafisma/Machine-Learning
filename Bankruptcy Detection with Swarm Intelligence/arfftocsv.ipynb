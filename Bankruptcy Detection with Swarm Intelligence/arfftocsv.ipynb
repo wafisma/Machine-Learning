{
 "cells": [
  {
   "cell_type": "code",
   "execution_count": 1,
   "metadata": {},
   "outputs": [],
   "source": [
    "#########################################\n",
    "# Project   : ARFF to CSV converter     #\n",
    "# Created   : 10/01/17 11:08:06         #\n",
    "# Author    : haloboy777                #\n",
    "# Licence   : MIT                       #\n",
    "#########################################\n",
    "\n",
    "# Importing library\n",
    "import os\n",
    "\n",
    "# Getting all the arff files from the current directory\n",
    "files = [arff for arff in os.listdir('.') if arff.endswith(\"1year.arff\")]\n",
    "\n",
    "# Function for converting arff list to csv list\n",
    "def toCsv(text):\n",
    "    data = False\n",
    "    header = \"\"\n",
    "    new_content = []\n",
    "    for line in text:\n",
    "        if not data:\n",
    "            if \"@ATTRIBUTE\" in line or \"@attribute\" in line:\n",
    "                attributes = line.split()\n",
    "                if(\"@attribute\" in line):\n",
    "                    attri_case = \"@attribute\"\n",
    "                else:\n",
    "                    attri_case = \"@ATTRIBUTE\"\n",
    "                column_name = attributes[attributes.index(attri_case) + 1]\n",
    "                header = header + column_name + \",\"\n",
    "            elif \"@DATA\" in line or \"@data\" in line:\n",
    "                data = True\n",
    "                header = header[:-1]\n",
    "                header += '\\n'\n",
    "                new_content.append(header)\n",
    "        else:\n",
    "            new_content.append(line)\n",
    "    return new_content\n",
    "\n",
    "\n",
    "# Main loop for reading and writing files\n",
    "for file in files:\n",
    "    with open(file, \"r\") as inFile:\n",
    "        content = inFile.readlines()\n",
    "        name, ext = os.path.splitext(inFile.name)\n",
    "        new = toCsv(content)\n",
    "        with open(name + \".csv\", \"w\") as outFile:\n",
    "            outFile.writelines(new)"
   ]
  }
 ],
 "metadata": {
  "kernelspec": {
   "display_name": "Python 3",
   "language": "python",
   "name": "python3"
  },
  "language_info": {
   "codemirror_mode": {
    "name": "ipython",
    "version": 3
   },
   "file_extension": ".py",
   "mimetype": "text/x-python",
   "name": "python",
   "nbconvert_exporter": "python",
   "pygments_lexer": "ipython3",
   "version": "3.7.4"
  }
 },
 "nbformat": 4,
 "nbformat_minor": 2
}
