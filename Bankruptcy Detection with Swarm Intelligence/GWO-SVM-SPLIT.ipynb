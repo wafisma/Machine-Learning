{
 "cells": [
  {
   "cell_type": "code",
   "execution_count": 283,
   "metadata": {},
   "outputs": [],
   "source": [
    "import numpy as np\n",
    "from sklearn import svm\n",
    "from sklearn.svm import SVC\n",
    "import sklearn.model_selection\n",
    "import numpy.random as rd\n",
    "import matplotlib.pyplot as plt\n",
    "from sklearn.model_selection import KFold\n",
    "from sklearn.metrics import mean_squared_error, r2_score\n",
    "from sklearn.model_selection import cross_val_score\n",
    "from sklearn.model_selection import train_test_split\n",
    "import warnings, pandas as pd,numpy as np, time, math, configparser,random\n",
    "import pandas as pd\n",
    "import numpy as np\n",
    "import random\n",
    "import csv\n",
    "from sklearn import svm\n",
    "from sklearn.model_selection import train_test_split\n",
    "from sklearn.model_selection import KFold\n",
    "from sklearn.svm import SVC\n",
    "from sklearn.model_selection import GridSearchCV\n",
    "from sklearn.metrics import classification_report\n",
    "from sklearn.metrics import accuracy_score\n",
    "from sklearn.metrics import precision_score\n",
    "from sklearn.metrics import recall_score\n",
    "from sklearn.metrics import f1_score\n",
    "from sklearn.metrics import classification_report\n",
    "from sklearn.metrics import confusion_matrix\n",
    "from sklearn.metrics import roc_curve\n",
    "from sklearn.metrics import precision_recall_curve\n",
    "from sklearn.model_selection import KFold\n",
    "import time\n",
    "import matplotlib.pyplot as plt\n",
    "%matplotlib inline\n",
    "\n",
    "import warnings\n",
    "warnings.filterwarnings('ignore')"
   ]
  },
  {
   "cell_type": "code",
   "execution_count": 284,
   "metadata": {},
   "outputs": [],
   "source": [
    "## 1. GWO optimization algorithm\n",
    "def sanitized_gwo(X_train,X_test,y_train,y_test,SearchAgents_no,T,dim,lb,ub):\n",
    "    Alpha_position=[0,0] # Initialize the position of Alpha Wolf\n",
    "    Beta_position=[0,0]\n",
    "    Delta_position=[0,0]  \n",
    "\n",
    "    Alpha_score = float(\"inf\") # Initialize the value of Alpha Wolf's objective function \n",
    "    Beta_score = float(\"inf\")\n",
    "    Delta_score = float(\"inf\")\n",
    " \n",
    "    Positions = np.dot(rd.rand(SearchAgents_no,dim),(ub-lb))+lb # initialize the first search position\n",
    "    \n",
    "    Convergence_curve=np.zeros((1,T))# initialization fusion curve\n",
    "\n",
    "    iterations = []\n",
    "    accuracy = []\n",
    "\n",
    "    # Main Loop\n",
    "    t = 0 \n",
    "    while t < T:\n",
    "        \n",
    "        # Iterate over each wolf\n",
    "        for i in range(0,(Positions.shape[0])):\n",
    "            #If the search position exceeds the search space, you need to return to the search space \n",
    "            for j in range(0,(Positions.shape[1])): \n",
    "                Flag4ub=Positions[i,j]>ub\n",
    "                Flag4lb=Positions[i,j]<lb\n",
    "                #If the wolf's position is between the maximum and minimum, the position does not need to be adjusted,\n",
    "                #if it exceeds the maximum, the maximum returns to the maximum value boundary\n",
    "\n",
    "                if Flag4ub:                   \n",
    "                    Positions[i,j] = ub\n",
    "                if Flag4lb:                   \n",
    "                    Positions[i,j] = lb\n",
    "            '''SVM MODEL TRAINING - FOR CLASSIFICATION PROBLEM DATASET''' \n",
    "            rbf_svm = svm.SVC(kernel = 'rbf', C = Positions[i][0], gamma = Positions[i][1]).fit(X_train, y_train)  #svm\n",
    "            cv_accuracies = cross_val_score(rbf_svm,X_test,y_test,cv =3,scoring = 'accuracy')\n",
    "            \n",
    "            '''SVR MODEL TRAINING - FOR REGRESSION PROBLEM DATASET'''\n",
    "            #rbf_regressor = svm.SVR(kernel = 'rbf', C = Positions[i][0], gamma = Positions[i][1]).fit(X_train, y_train)  #svm        \n",
    "            #cv_accuracies = cross_val_score(rbf_regressor,X_test,y_test,cv =3,scoring = 'neg_mean_squared_error') # Taking negated value of MSE\n",
    "            \n",
    "            \n",
    "            #To minimize the error rate\n",
    "            accuracies = cv_accuracies.mean()            \n",
    "            fitness_value = (1 - accuracies)*100\n",
    "            if fitness_value<Alpha_score: # If the objective function value is less than the objective function value of Alpha Wolf\n",
    "                Alpha_score=fitness_value # Then update the target function value of Alpha Wolf to the optimal target function value\n",
    "                Alpha_position=Positions[i] # At the same time update the position of the Alpha wolf to the optimal position\n",
    "            if fitness_value>Alpha_score and fitness_value<Beta_score:  # If the objective function value is between the objective function value of Alpha Wolf and Beta Wolf\n",
    "                Beta_score=fitness_value # Then update the target function value of Beta Wolf to the optimal target function value\n",
    "                Beta_position=Positions[i]\n",
    "            if fitness_value>Alpha_score and fitness_value>Beta_score and fitness_value<Delta_score: #If the target function value is between the target function value of Beta Wolf and Delta Wolf\n",
    "                Delta_score=fitness_value  # Then update the target function value of Delta Wolf to the optimal target function value\n",
    "                Delta_position=Positions[i]\n",
    "\n",
    "\n",
    "        a=2-t*(2/T)\n",
    "        \n",
    "        # Iterate over each wolf\n",
    "        for i in range(0,(Positions.shape[0])):\n",
    "            #Traverse through each dimension\n",
    "            for j in range(0,(Positions.shape[1])): \n",
    "                #Surround prey, location update                 \n",
    "                r1=rd.random(1)#Generate a random number between 0 ~ 1\n",
    "                r2=rd.random(1)               \n",
    "                A1=2*a*r1-a # calculation factor A\n",
    "                #C1=2*r2 # calculation factor C\n",
    "                C1 = 0.5 + (0.5*math.exp(-j/500)) + (1.4*(math.sin(j)/30)) # Time varying Acceleration constant \n",
    "\n",
    "                #Alphawolf location update\n",
    "                \n",
    "                D_alpha=abs(C1*Alpha_position[j]-Positions[i,j])\n",
    "                X1=Alpha_position[j]-A1*D_alpha\n",
    "                       \n",
    "                r1=rd.random(1)\n",
    "                r2=rd.random(1)\n",
    "\n",
    "                A2=2*a*r1-a\n",
    "                #C2=2*r2\n",
    "                C2  = 1 + (1.4*(1 - math.exp(-j/500)) ) + (1.4*(math.sin(j)/30)) #Difference Mean based Perturbation time varying parameter\n",
    "\n",
    "                # Beta wolf location update\n",
    "                D_beta=abs(C2*Beta_position[j]-Positions[i,j])\n",
    "                X2=Beta_position[j]-A2*D_beta\n",
    "                r1=rd.random(1)\n",
    "                r2=rd.random(1)\n",
    "\n",
    "                A3=2*a*r1-a\n",
    "                #C3=2*r2\n",
    "                C3=(1/(1+ math.exp(-0.0001*j/T) )) + ((0.5 - 2.5) * ((j/T) **2)) #sigmoid-based acceleration coefficient\n",
    "\n",
    "                # Delta Wolf Location Update\n",
    "                D_delta=abs(C3*Delta_position[j]-Positions[i,j])\n",
    "                X3=Delta_position[j]-A3*D_delta\n",
    "\n",
    "                # Location update\n",
    "                Positions[i,j]=(X1+X2+X3)/3\n",
    "\n",
    "        \n",
    "        t = t + 1\n",
    "        iterations.append(t)\n",
    "        accuracy.append((100-Alpha_score)/100)\n",
    "        print('----------------Count of iterations----------------' + str(t))\n",
    "        print(Positions)\n",
    "        print('C and gamma:' + str(Alpha_position))\n",
    "        print('accuracy:' + str((100-Alpha_score)/100))\n",
    "\n",
    "    best_C=Alpha_position[0]\n",
    "    best_gamma=Alpha_position[1]\n",
    "\n",
    "    return best_C,best_gamma,iterations,accuracy\n",
    "    #plot(x axis = gamma, y axis = C)\n",
    "    #plotting (x axis = gamma, y axis = C)\n",
    "    #plot(Alpha_position)\n",
    "# Plot Convergence Curve\n",
    "'''\n",
    "def plot(iterations,accuracy):\n",
    "    plt.plot(iterations,accuracy)\n",
    "    plt.xlabel('Count of iterations',size = 20)\n",
    "    plt.ylabel('Accuracy',size = 20)\n",
    "    plt.title('Sanitized GWO-SVM parameter optimization (SGWO_SVM)')\n",
    "    plt.show()\n",
    "'''\n",
    "# Plot Scatter GWO\n",
    "def plot(best_C,best_gamma):\n",
    "    plt.plot(best_C,best_gamma)\n",
    "    colors = (0,0,0)\n",
    "    plt.scatter(best_C, best_gamma, c = colors, alpha = 0.1)\n",
    "    plt.xlabel('C',size = 20)\n",
    "    plt.ylabel('Gamma',size = 20)\n",
    "    plt.axis([0,9,0,10])\n",
    "    plt.gca().set_aspect('equal', adjustable='box')\n",
    "    plt.title('Sanitized GWO-SVM parameter optimization (SGWO_SVM)')\n",
    "    plt.show()"
   ]
  },
  {
   "cell_type": "code",
   "execution_count": 285,
   "metadata": {},
   "outputs": [
    {
     "name": "stdout",
     "output_type": "stream",
     "text": [
      "----------------1. Load data-------------------\n"
     ]
    }
   ],
   "source": [
    "if __name__ == '__main__':\n",
    "    print('----------------1. Load data-------------------')\n",
    "    url = \"Polish6yeartrain.csv\"\n",
    "    colnames = ['x1', 'x2', 'x3','y']\n",
    "    data = pd.read_csv(url,header = None, names = colnames)"
   ]
  },
  {
   "cell_type": "code",
   "execution_count": 286,
   "metadata": {},
   "outputs": [
    {
     "data": {
      "text/plain": [
       "(43401, 4)"
      ]
     },
     "execution_count": 286,
     "metadata": {},
     "output_type": "execute_result"
    }
   ],
   "source": [
    "data.shape"
   ]
  },
  {
   "cell_type": "code",
   "execution_count": 287,
   "metadata": {},
   "outputs": [
    {
     "data": {
      "text/plain": [
       "0    41310\n",
       "1     2091\n",
       "Name: y, dtype: int64"
      ]
     },
     "execution_count": 287,
     "metadata": {},
     "output_type": "execute_result"
    }
   ],
   "source": [
    "data['y'].value_counts()"
   ]
  },
  {
   "cell_type": "code",
   "execution_count": 288,
   "metadata": {},
   "outputs": [
    {
     "data": {
      "text/plain": [
       "0    0.951821\n",
       "1    0.048179\n",
       "Name: y, dtype: float64"
      ]
     },
     "execution_count": 288,
     "metadata": {},
     "output_type": "execute_result"
    }
   ],
   "source": [
    "data['y'].value_counts()/np.float(len(data))"
   ]
  },
  {
   "cell_type": "code",
   "execution_count": 289,
   "metadata": {},
   "outputs": [
    {
     "data": {
      "text/plain": [
       "<matplotlib.axes._subplots.AxesSubplot at 0x247b132dc48>"
      ]
     },
     "execution_count": 289,
     "metadata": {},
     "output_type": "execute_result"
    },
    {
     "data": {
      "image/png": "[encoded data removed]",
      "text/plain": [
       "<Figure size 432x288 with 1 Axes>"
      ]
     },
     "metadata": {
      "needs_background": "light"
     },
     "output_type": "display_data"
    }
   ],
   "source": [
    "(data['y'].value_counts()/np.float(len(data))).plot.bar()"
   ]
  },
  {
   "cell_type": "code",
   "execution_count": 290,
   "metadata": {},
   "outputs": [],
   "source": [
    "# declare feature vector and target variable\n",
    "\n",
    "X = data.drop(['y'], axis=1)\n",
    "y = data['y']"
   ]
  },
  {
   "cell_type": "code",
   "execution_count": 291,
   "metadata": {},
   "outputs": [],
   "source": [
    "# import resample module \n",
    "\n",
    "from sklearn.utils import resample"
   ]
  },
  {
   "cell_type": "code",
   "execution_count": 292,
   "metadata": {},
   "outputs": [],
   "source": [
    "# separate the minority and majority classes\n",
    "df_majority = data[data['y']==0]\n",
    "df_minority = data[data['y']==1]"
   ]
  },
  {
   "cell_type": "code",
   "execution_count": 293,
   "metadata": {},
   "outputs": [],
   "source": [
    "# oversample minority class\n",
    "\n",
    "df_minority_oversampled = resample(df_minority, replace=True, n_samples=43400, random_state=0)"
   ]
  },
  {
   "cell_type": "code",
   "execution_count": 294,
   "metadata": {},
   "outputs": [],
   "source": [
    "# combine majority class with oversampled minority class\n",
    "\n",
    "df_oversampled = pd.concat([df_majority, df_minority_oversampled])"
   ]
  },
  {
   "cell_type": "code",
   "execution_count": 295,
   "metadata": {},
   "outputs": [
    {
     "data": {
      "text/plain": [
       "1    43400\n",
       "0    41310\n",
       "Name: y, dtype: int64"
      ]
     },
     "execution_count": 295,
     "metadata": {},
     "output_type": "execute_result"
    }
   ],
   "source": [
    "# display new class value counts\n",
    "\n",
    "df_oversampled['y'].value_counts()"
   ]
  },
  {
   "cell_type": "code",
   "execution_count": 296,
   "metadata": {},
   "outputs": [
    {
     "data": {
      "text/plain": [
       "<matplotlib.axes._subplots.AxesSubplot at 0x247b138ea48>"
      ]
     },
     "execution_count": 296,
     "metadata": {},
     "output_type": "execute_result"
    },
    {
     "data": {
      "image/png": "[encoded data removed]",
      "text/plain": [
       "<Figure size 432x288 with 1 Axes>"
      ]
     },
     "metadata": {
      "needs_background": "light"
     },
     "output_type": "display_data"
    }
   ],
   "source": [
    "# view the distribution of percentages within the Class column\n",
    "\n",
    "\n",
    "(df_oversampled['y'].value_counts()/np.float(len(df_oversampled))).plot.bar()"
   ]
  },
  {
   "cell_type": "code",
   "execution_count": 297,
   "metadata": {},
   "outputs": [],
   "source": [
    "# declare feature vector and target variable\n",
    "X1 = df_oversampled.drop(['y'], axis=1)\n",
    "X1 =(X1-X1.mean())/X1.std()\n",
    "y1 = df_oversampled['y']\n",
    "X_train, X_test, y_train, y_test = train_test_split(X1, y1,test_size = 0.2, random_state=42)"
   ]
  },
  {
   "cell_type": "code",
   "execution_count": 298,
   "metadata": {},
   "outputs": [],
   "source": [
    "#X = data.drop('y', axis = 1)\n",
    "#X =(X-X.mean())/X.std()\n",
    "#y = data['y']\n",
    "#X_train,X_test,y_train,y_test= train_test_split(X, y, test_size = 0.2, random_state = 0)"
   ]
  },
  {
   "cell_type": "code",
   "execution_count": 299,
   "metadata": {},
   "outputs": [
    {
     "name": "stdout",
     "output_type": "stream",
     "text": [
      "----------------2. Parameter setting------------\n"
     ]
    }
   ],
   "source": [
    "print('----------------2. Parameter setting------------')\n",
    "SearchAgents_no=10 #Number of Wolfs\n",
    "T=10 # maximum number of iterations\n",
    "dim=2 #Need to optimize two variables - Cost and Gamma\n",
    "lb=0.01 #lower bound Parameter\n",
    "ub=10 #upper bound Parameter"
   ]
  },
  {
   "cell_type": "code",
   "execution_count": 300,
   "metadata": {},
   "outputs": [
    {
     "name": "stdout",
     "output_type": "stream",
     "text": [
      "----------------3.LARGE-----------------\n",
      "----------------Count of iterations----------------1\n",
      "[[ 4.69971417  2.21553137]\n",
      " [ 2.87437521  3.70551466]\n",
      " [ 3.73597947  6.5384715 ]\n",
      " [ 1.99173445  7.00709816]\n",
      " [ 7.14313756  4.2366694 ]\n",
      " [ 4.28335793  4.1244744 ]\n",
      " [ 4.16097759 11.1143127 ]\n",
      " [ 7.83658817 10.85312075]\n",
      " [ 8.48246708 11.3444062 ]\n",
      " [ 6.42092214  6.3285644 ]]\n",
      "C and gamma:[6.42092214 6.3285644 ]\n",
      "accuracy:0.659603357210569\n",
      "----------------Count of iterations----------------2\n",
      "[[ 7.09043533  6.94441752]\n",
      " [ 7.84777429 16.42314577]\n",
      " [ 5.46109815  8.18491345]\n",
      " [ 7.89243532  9.47596519]\n",
      " [ 6.38908197  6.52240733]\n",
      " [ 6.03996888  9.58369793]\n",
      " [ 5.63993087  8.84968103]\n",
      " [ 8.64850207  4.75949502]\n",
      " [ 7.56450479 11.55173151]\n",
      " [ 7.81617073  9.6614939 ]]\n",
      "C and gamma:[ 7.56450479 11.55173151]\n",
      "accuracy:0.660252617273781\n",
      "----------------Count of iterations----------------3\n",
      "[[ 8.23224239  8.78856704]\n",
      " [ 6.64694543 11.79772444]\n",
      " [ 6.10627031  8.54345718]\n",
      " [ 6.25468618  9.99282533]\n",
      " [ 6.7953609   9.84215279]\n",
      " [ 5.68736184 13.40676153]\n",
      " [ 5.89156782 13.07561884]\n",
      " [ 6.46369021 11.4846191 ]\n",
      " [ 7.32117601 12.10712023]\n",
      " [ 5.53425504 14.89554959]]\n",
      "C and gamma:[ 7.32117601 12.10712023]\n",
      "accuracy:0.660252617273781\n",
      "----------------Count of iterations----------------4\n",
      "[[ 7.03087305 10.15634228]\n",
      " [ 6.51931917 10.80910099]\n",
      " [ 5.32522842  9.65715245]\n",
      " [ 6.9406923  12.44762597]\n",
      " [ 6.61842944 13.37192235]\n",
      " [ 7.01220032 11.91588377]\n",
      " [ 7.1514172   9.82462221]\n",
      " [ 6.13901959  8.43172772]\n",
      " [ 6.91339947 11.26797028]\n",
      " [ 7.32127905 12.63033351]]\n",
      "C and gamma:[ 6.91339947 11.26797028]\n",
      "accuracy:0.660252617273781\n",
      "----------------Count of iterations----------------5\n",
      "[[ 6.56674896 10.24064802]\n",
      " [ 7.62681888 11.84174693]\n",
      " [ 6.93245154  8.19204631]\n",
      " [ 7.51017866 10.19904523]\n",
      " [ 6.79830073  8.57494576]\n",
      " [ 6.14771886  9.38677509]\n",
      " [ 8.25977777  8.19393107]\n",
      " [ 7.05921917  8.58185103]\n",
      " [ 7.68346373  7.29507275]\n",
      " [ 6.57360959  7.22014443]]\n",
      "C and gamma:[7.68346373 7.29507275]\n",
      "accuracy:0.660252617273781\n",
      "----------------Count of iterations----------------6\n",
      "[[ 7.10735224 10.84233472]\n",
      " [ 8.18512607 10.07619946]\n",
      " [ 7.02360615  9.37653305]\n",
      " [ 7.64673497  7.18642268]\n",
      " [ 7.8939145   7.14621513]\n",
      " [ 8.20475816  5.92627254]\n",
      " [ 7.36136677  7.77311822]\n",
      " [ 7.26130445  8.40063582]\n",
      " [ 7.57495337  8.10061931]\n",
      " [ 7.29930554  8.38901438]]\n",
      "C and gamma:[7.57495337 8.10061931]\n",
      "accuracy:0.660252617273781\n",
      "----------------Count of iterations----------------7\n",
      "[[7.97084601 7.95575637]\n",
      " [6.68679368 9.64567981]\n",
      " [6.89844739 7.8212634 ]\n",
      " [6.71287494 8.3749343 ]\n",
      " [7.7953839  9.50151641]\n",
      " [7.37068326 8.67445927]\n",
      " [6.82235244 8.94570776]\n",
      " [7.83085535 8.31270011]\n",
      " [6.42892299 9.94769709]\n",
      " [6.88593863 9.30130467]]\n",
      "C and gamma:[6.42892299 9.94769709]\n",
      "accuracy:0.660252617273781\n",
      "----------------Count of iterations----------------8\n",
      "[[ 5.83544186  9.13707152]\n",
      " [ 6.75805366  9.43611208]\n",
      " [ 5.9133014  10.53907318]\n",
      " [ 5.99782493 10.30589779]\n",
      " [ 7.080295    8.82790845]\n",
      " [ 6.5297206   9.79894048]\n",
      " [ 6.32726728 10.34277944]\n",
      " [ 6.77649828  9.54759877]\n",
      " [ 6.2664045  10.02114642]\n",
      " [ 7.03079095 10.35660854]]\n",
      "C and gamma:[ 6.2664045  10.02114642]\n",
      "accuracy:0.660252617273781\n",
      "----------------Count of iterations----------------9\n",
      "[[ 6.4108622   9.07120709]\n",
      " [ 6.21239228 10.04686281]\n",
      " [ 5.97228501  9.89049991]\n",
      " [ 6.30941436  9.61318417]\n",
      " [ 6.79485407 10.4123599 ]\n",
      " [ 6.49075433  9.79594695]\n",
      " [ 6.05676045  9.63513817]\n",
      " [ 6.07212869 10.23244763]\n",
      " [ 6.36917875 10.08458793]\n",
      " [ 6.03397305 10.06766095]]\n",
      "C and gamma:[ 6.36917875 10.08458793]\n",
      "accuracy:0.660252617273781\n",
      "----------------Count of iterations----------------10\n",
      "[[ 6.22717038  9.88348872]\n",
      " [ 6.34340631  9.76366477]\n",
      " [ 6.31470438 10.18051921]\n",
      " [ 6.32156959  9.76395935]\n",
      " [ 6.1775723   9.62972125]\n",
      " [ 6.09709661 10.01296141]\n",
      " [ 6.07464728  9.78815058]\n",
      " [ 6.07882768  9.80119686]\n",
      " [ 6.32940746  9.7337903 ]\n",
      " [ 6.21697411  9.71510464]]\n",
      "C and gamma:[6.32940746 9.7337903 ]\n",
      "accuracy:0.660252617273781\n",
      "----------------4. The result shows-----------------\n",
      "The best C is 6.32940746381654\n",
      "The best gamma is 9.733790295061793\n"
     ]
    }
   ],
   "source": [
    "print('----------------3.LARGE-----------------')\n",
    "best_C,best_gamma,iterations,accuracy = sanitized_gwo(X_train,X_test,y_train,y_test,SearchAgents_no,T,dim,lb,ub)\n",
    "\n",
    "print('----------------4. The result shows-----------------')\n",
    "print(\"The best C is \" + str(best_C))\n",
    "print(\"The best gamma is \" + str(best_gamma))\n",
    "    #plot(iterations,accuracy)\n",
    "    #plot(Alpha_position)\n",
    "#plot(best_C,best_gamma)"
   ]
  },
  {
   "cell_type": "code",
   "execution_count": 301,
   "metadata": {},
   "outputs": [],
   "source": [
    "#Apply Optimal Parameters to SVR\n",
    "svclassifier= SVC(kernel='rbf', C = best_C,gamma=best_gamma )\n",
    "svclassifier.fit(X_train,y_train)\n",
    "y_pred = svclassifier.predict(X_test)\n",
    "y_train_pred = svclassifier.predict(X_train)\n",
    "# APPLYING K-FOLD CROSS VALIDATION on RF model\n",
    "accuracies = cross_val_score(svclassifier, X = X_train, y = y_train, cv = 10)\n",
    "accuracy_mean= accuracies.mean()\n",
    "accuracies.std()*100\n",
    "\n",
    "mse = mean_squared_error(y_test, y_pred)\n",
    "rmse = np.sqrt(mse)\n",
    "r2=r2_score(y_test, y_pred)\n",
    "nrmse=rmse/(y_test.max() - y_test.min())"
   ]
  },
  {
   "cell_type": "code",
   "execution_count": 302,
   "metadata": {},
   "outputs": [
    {
     "name": "stdout",
     "output_type": "stream",
     "text": [
      "SVC RESULTS - C AND GAMMA PARAMETERS OPTIMIZED BY GRAY WOLF OPTIMIZATION\n",
      "RMSE = 0.5831822381062712\n",
      "MSE = 0.3401015228426396\n",
      "Normalized RMSE= 0.5831822381062712\n",
      "R Square = -0.36111263554545103\n",
      "K-fold accuracy mean 0.6627760047309124\n",
      "Training time: 148.19912195205688s\n"
     ]
    }
   ],
   "source": [
    "print(\"SVC RESULTS - C AND GAMMA PARAMETERS OPTIMIZED BY GRAY WOLF OPTIMIZATION\")\n",
    "print(\"RMSE =\", rmse)\n",
    "print(\"MSE =\", mse)\n",
    "print(\"Normalized RMSE=\",nrmse)\n",
    "print(\"R Square =\",r2)\n",
    "print(\"K-fold accuracy mean\",accuracy_mean)\n",
    "from sklearn.metrics import accuracy_score, f1_score, precision_score, recall_score, confusion_matrix,classification_report\n",
    "import time\n",
    "#Performance Metrics\n",
    "#print(\"Training Findings\")\n",
    "#print(\"Accuracy:\",accuracy_score(y_train, y_pred))  \n",
    "#print(\"Confusion Matrix:\",confusion_matrix(y_true, y_pred))\n",
    "#print(\"Testing Findings\")\n",
    "#print(\"Test Accuracy:\",accuracy_score(y_test, y_pred)) \n",
    "#print(\"Confusion Matrix:\",confusion_matrix(y_test, y_pred))\n",
    "#Time\n",
    "start = time.time()\n",
    "#model.fit(X, y)\n",
    "svclassifier.fit(X_train, y_train)\n",
    "#svclassifier.fit(X_test, y_test)\n",
    "stop = time.time()\n",
    "print(f\"Training time: {stop - start}s\")\n",
    "#print(f\"Test time: {stop - start}s\")\n",
    "#plot(best_C,best_gamma)"
   ]
  },
  {
   "cell_type": "code",
   "execution_count": 303,
   "metadata": {},
   "outputs": [
    {
     "name": "stdout",
     "output_type": "stream",
     "text": [
      "Test time: 9.577940464019775s\n"
     ]
    }
   ],
   "source": [
    "#Time\n",
    "start = time.time()\n",
    "#model.fit(X, y)\n",
    "#svclassifier.fit(X_train, y_train)\n",
    "svclassifier.fit(X_test, y_test)\n",
    "stop = time.time()\n",
    "#print(f\"Training time: {stop - start}s\")\n",
    "print(f\"Test time: {stop - start}s\")\n",
    "#plot(best_C,best_gamma)"
   ]
  },
  {
   "cell_type": "code",
   "execution_count": 304,
   "metadata": {},
   "outputs": [
    {
     "name": "stdout",
     "output_type": "stream",
     "text": [
      "Training Findings\n",
      "Accuracy: 0.6629235037185692\n",
      "Confusion Matrix: [[21292 11740]\n",
      " [11103 23633]]\n",
      "Testing Findings\n",
      "Test Accuracy: 0.6598984771573604\n",
      "Confusion Matrix: [[5328 2950]\n",
      " [2812 5852]]\n"
     ]
    }
   ],
   "source": [
    "#Performance Metrics\n",
    "print(\"Training Findings\")\n",
    "print(\"Accuracy:\",accuracy_score(y_train, y_train_pred))  \n",
    "print(\"Confusion Matrix:\",confusion_matrix(y_train, y_train_pred))\n",
    "print(\"Testing Findings\")\n",
    "print(\"Test Accuracy:\",accuracy_score(y_test, y_pred)) \n",
    "print(\"Confusion Matrix:\",confusion_matrix(y_test, y_pred))"
   ]
  },
  {
   "cell_type": "code",
   "execution_count": null,
   "metadata": {},
   "outputs": [],
   "source": []
  }
 ],
 "metadata": {
  "kernelspec": {
   "display_name": "Python 3",
   "language": "python",
   "name": "python3"
  },
  "language_info": {
   "codemirror_mode": {
    "name": "ipython",
    "version": 3
   },
   "file_extension": ".py",
   "mimetype": "text/x-python",
   "name": "python",
   "nbconvert_exporter": "python",
   "pygments_lexer": "ipython3",
   "version": "3.7.4"
  }
 },
 "nbformat": 4,
 "nbformat_minor": 2
}
